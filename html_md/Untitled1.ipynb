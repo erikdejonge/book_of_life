{
 "cells": [
  {
   "cell_type": "code",
   "execution_count": 12,
   "metadata": {
    "collapsed": false
   },
   "outputs": [
    {
     "name": "stdout",
     "output_type": "stream",
     "text": [
      "done\n"
     ]
    }
   ],
   "source": [
    "import os\n",
    "for i in os.popen('find . | grep md'):\n",
    "    dn = os.path.dirname(i).replace('./', '')\n",
    "    bn = os.path.basename(i).strip()\n",
    "    if dn in bn:\n",
    "        \n",
    "        fpath = os.path.join(os.path.join(os.getcwd(), dn), bn)\n",
    "        if os.path.exists(fpath):\n",
    "            c = open(fpath).read()\n",
    "            cs = c.split(\"[![Twitter]\")\n",
    "            if len(cs) > 1:\n",
    "                open(fpath, \"wt\").write(\"Chapter \"+cs[0])\n",
    "print(\"done\")"
   ]
  }
 ],
 "metadata": {
  "kernelspec": {
   "display_name": "Python 3",
   "language": "python",
   "name": "python3"
  },
  "language_info": {
   "codemirror_mode": {
    "name": "ipython",
    "version": 3
   },
   "file_extension": ".py",
   "mimetype": "text/x-python",
   "name": "python",
   "nbconvert_exporter": "python",
   "pygments_lexer": "ipython3",
   "version": "3.5.0"
  }
 },
 "nbformat": 4,
 "nbformat_minor": 0
}
